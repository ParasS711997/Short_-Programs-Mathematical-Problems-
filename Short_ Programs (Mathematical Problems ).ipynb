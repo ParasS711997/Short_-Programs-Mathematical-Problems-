{
 "cells": [
  {
   "cell_type": "markdown",
   "metadata": {},
   "source": [
    "Calculating Factorial"
   ]
  },
  {
   "cell_type": "code",
   "execution_count": 1,
   "metadata": {},
   "outputs": [
    {
     "name": "stdout",
     "output_type": "stream",
     "text": [
      "enter the number5\n",
      "120\n"
     ]
    }
   ],
   "source": [
    "a=int(input('enter the number'))\n",
    "n=1\n",
    "for i in range(1,a+1):\n",
    "    n*=i\n",
    "print(n)"
   ]
  },
  {
   "cell_type": "markdown",
   "metadata": {},
   "source": [
    "Predicting The Grade"
   ]
  },
  {
   "cell_type": "code",
   "execution_count": 2,
   "metadata": {},
   "outputs": [
    {
     "name": "stdout",
     "output_type": "stream",
     "text": [
      "enter marks of first subject56\n",
      "enter marks of second subject45\n",
      "enter marks of third subject41\n",
      "third class\n"
     ]
    }
   ],
   "source": [
    "a=int(input('enter marks of first subject'))\n",
    "b=int(input('enter marks of second subject'))\n",
    "c=int(input('enter marks of third subject'))\n",
    "\n",
    "\n",
    "average=(a+b+c)/3\n",
    "if average>=70:\n",
    "    print('distinction')\n",
    "elif average>=60:\n",
    "    print('first class')\n",
    "elif average>=50:\n",
    "    print('second class')\n",
    "elif average>=40:\n",
    "    print('third class')\n",
    "elif average<40:\n",
    "    print('fail')"
   ]
  },
  {
   "cell_type": "markdown",
   "metadata": {},
   "source": [
    "Max number in a list "
   ]
  },
  {
   "cell_type": "code",
   "execution_count": 10,
   "metadata": {},
   "outputs": [
    {
     "name": "stdout",
     "output_type": "stream",
     "text": [
      "101\n"
     ]
    }
   ],
   "source": [
    "list1=[78,93,79,101,90,65]\n",
    "max1=list1[0]\n",
    "n=len(list1)\n",
    "\n",
    "\n",
    "for i in range(1,n):\n",
    "    if list1[i] > max1:\n",
    "        max1=list1[i]\n",
    "\n",
    "print(max1)\n"
   ]
  },
  {
   "cell_type": "markdown",
   "metadata": {},
   "source": [
    "Checking Prime"
   ]
  },
  {
   "cell_type": "code",
   "execution_count": 7,
   "metadata": {},
   "outputs": [
    {
     "name": "stdout",
     "output_type": "stream",
     "text": [
      "enter the number7\n",
      "number is prime\n"
     ]
    }
   ],
   "source": [
    "a=int(input('enter the number'))\n",
    "\n",
    "\n",
    "for i in range(2,a):\n",
    "    if(a%i==0):\n",
    "        print('not prime')\n",
    "        break\n",
    "else:\n",
    "    print('number is prime')\n",
    "    "
   ]
  },
  {
   "cell_type": "markdown",
   "metadata": {},
   "source": [
    "Checking Leap Year :"
   ]
  },
  {
   "cell_type": "code",
   "execution_count": 5,
   "metadata": {},
   "outputs": [
    {
     "name": "stdout",
     "output_type": "stream",
     "text": [
      "enter the year : 1700\n",
      "It is a ordinary year.\n"
     ]
    }
   ],
   "source": [
    "a=int(input('enter the year : '))\n",
    "\n",
    "if (a%400==0):\n",
    "    print('It is a leap year.')\n",
    "elif (a%4==0) and (a%100 !=0):\n",
    "    print('It is a leap year.')\n",
    "else:\n",
    "    print('It is a ordinary year.')"
   ]
  },
  {
   "cell_type": "markdown",
   "metadata": {},
   "source": [
    "Type of Triangle :"
   ]
  },
  {
   "cell_type": "code",
   "execution_count": 4,
   "metadata": {},
   "outputs": [
    {
     "name": "stdout",
     "output_type": "stream",
     "text": [
      "enter 1st angle of triangle90\n",
      "enter 2nd angle of triangle45\n",
      "enter 3rd angle of triangle45\n",
      "it is a right angled triangle\n"
     ]
    }
   ],
   "source": [
    "a=int(input('enter 1st angle of triangle'))\n",
    "b=int(input('enter 2nd angle of triangle'))\n",
    "c=int(input('enter 3rd angle of triangle'))\n",
    "\n",
    "if (a+b+c ==180):\n",
    "    if a==90 or b==90 or c==90:\n",
    "        print('it is a right angled triangle')\n",
    "    elif a<90 and b<90 and c<90:\n",
    "        print('it is a acute angled triangle')\n",
    "    elif a>90 or b>90 or c>90:\n",
    "        print('it is a obtuse angled triangle')\n",
    "else:\n",
    "    print('it is not a triangle')"
   ]
  },
  {
   "cell_type": "markdown",
   "metadata": {},
   "source": [
    "Quadrants :"
   ]
  },
  {
   "cell_type": "code",
   "execution_count": 3,
   "metadata": {},
   "outputs": [
    {
     "name": "stdout",
     "output_type": "stream",
     "text": [
      "enter first point-8\n",
      "enter second point-9\n",
      "third quadrant\n"
     ]
    }
   ],
   "source": [
    "x=int(input('enter first point'))\n",
    "y=int(input('enter second point'))\n",
    "\n",
    "\n",
    "if x==0 and y==0:\n",
    "    print('origin')\n",
    "\n",
    "elif x==0:\n",
    "    print('point is on x-axis')\n",
    "elif y==0:\n",
    "    print('point is on y-axis')\n",
    "elif x>0 and y>0:\n",
    "    print('first quadrant')\n",
    "elif x<0 and y>0:\n",
    "    print('second quadrant')\n",
    "elif x<0 and y<0:\n",
    "    print('third quadrant')\n",
    "elif x>0 and y<0:\n",
    "    print('fourth quadrant') "
   ]
  },
  {
   "cell_type": "markdown",
   "metadata": {},
   "source": [
    "All Possible Combinations"
   ]
  },
  {
   "cell_type": "code",
   "execution_count": 1,
   "metadata": {},
   "outputs": [
    {
     "name": "stdout",
     "output_type": "stream",
     "text": [
      "1 2 3\n",
      "1 3 2\n",
      "2 1 3\n",
      "2 3 1\n",
      "3 1 2\n",
      "3 2 1\n"
     ]
    }
   ],
   "source": [
    "\n",
    "list1=[1,2,3]\n",
    "\n",
    "\n",
    "for i in range(3):\n",
    "    for j in range(3):\n",
    "        for k in range(3):\n",
    "            if (i!=j and j!=k and k!=i):\n",
    "                print(list1[i],list1[j],list1[k])"
   ]
  },
  {
   "cell_type": "markdown",
   "metadata": {},
   "source": [
    "Count digits :"
   ]
  },
  {
   "cell_type": "code",
   "execution_count": 2,
   "metadata": {},
   "outputs": [
    {
     "name": "stdout",
     "output_type": "stream",
     "text": [
      "enter the value of no7376264535\n",
      "10\n"
     ]
    }
   ],
   "source": [
    "no=int(input('enter the value of no'))\n",
    "count=0\n",
    "while no>0:\n",
    "    no=no//10\n",
    "    count+=1\n",
    "print(count)"
   ]
  },
  {
   "cell_type": "code",
   "execution_count": null,
   "metadata": {},
   "outputs": [],
   "source": []
  }
 ],
 "metadata": {
  "kernelspec": {
   "display_name": "Python 3",
   "language": "python",
   "name": "python3"
  },
  "language_info": {
   "codemirror_mode": {
    "name": "ipython",
    "version": 3
   },
   "file_extension": ".py",
   "mimetype": "text/x-python",
   "name": "python",
   "nbconvert_exporter": "python",
   "pygments_lexer": "ipython3",
   "version": "3.8.5"
  }
 },
 "nbformat": 4,
 "nbformat_minor": 4
}
